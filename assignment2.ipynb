{
 "cells": [
  {
   "cell_type": "code",
   "execution_count": 9,
   "id": "168a7e5c-5e68-4c80-b94c-9a6a7908fca9",
   "metadata": {},
   "outputs": [],
   "source": [
    "#### Q1: Probability Mass Function (PMF) and Probability Density Function (PDF)\n",
    "#Probability Mass Function (PMF):\n",
    "\n",
    "#The PMF is used for discrete random variables and provides the probability of each possible outcome.\n",
    "\n",
    "## The PDF is used for continuous random variables and provides the likelihood of a value falling within a particular range. The PDF itself does not give probabilities directly but rather the density of the probability."
   ]
  },
  {
   "cell_type": "code",
   "execution_count": 10,
   "id": "7c339911-52fc-4d02-acd4-142314d05fdb",
   "metadata": {},
   "outputs": [],
   "source": [
    "### Q2: Cumulative Distribution Function (CDF)\n",
    "#CDF: The Cumulative Distribution Function gives the probability that a random variable takes on a value less than or equal to a given value  x\n",
    "\n",
    "# x. For a random variable \n",
    "\n",
    "## Why CDF is Used:\n",
    "\n",
    "# It is used to determine the probability of a random variable falling within a specific range by calculating the area under the PDF curve up to a point.\n",
    "# It helps in understanding the distribution of data and in calculating probabilities for ranges of values."
   ]
  },
  {
   "cell_type": "code",
   "execution_count": 11,
   "id": "a81179e9-870e-4f75-aebc-381660e5f0b9",
   "metadata": {},
   "outputs": [],
   "source": [
    "####Q3: Examples and Parameters of Normal Distribution\n",
    "# Examples:\n",
    "\n",
    "#Heights of People: Heights of adult men or women are often normally distributed.\n",
    "#Test Scores: Scores on a standardized test often follow a normal distribution.\n",
    "##Parameters:\n",
    "\n",
    "# Mean (μ)\n",
    "\n",
    "#: Determines the center of the distribution. Changing the mean shifts the distribution left or right.\n",
    "# Standard Deviation (σ)\n",
    "\n",
    "\n",
    "# : Measures the spread of the distribution. A larger standard deviation means a wider distribution."
   ]
  },
  {
   "cell_type": "code",
   "execution_count": 12,
   "id": "9b6cc2de-c345-4bca-a17a-f93ded12766a",
   "metadata": {},
   "outputs": [],
   "source": [
    "#Q4: Importance and Real-Life Examples of Normal Distribution\n",
    "#Importance:\n",
    "\n",
    "#The normal distribution is fundamental in statistics because many real-world phenomena are approximately normally distributed.\n",
    "#It forms the basis for many statistical tests and methods, including confidence intervals and hypothesis testing.\n",
    "#Real-Life Examples:\n",
    "\n",
    "#IQ Scores: Typically follow a normal distribution with a mean of 100 and a standard deviation of 15.\n",
    "#Measurement Errors: Errors in scientific measurements often follow a normal distribution."
   ]
  },
  {
   "cell_type": "code",
   "execution_count": 13,
   "id": "5060c57e-c29d-4b04-85a7-44767559aa3d",
   "metadata": {},
   "outputs": [],
   "source": [
    "#### Q5: Bernoulli Distribution and Its Difference from Binomial Distribution\n",
    "#Bernoulli Distribution:\n",
    "\n",
    "#A Bernoulli distribution models a single trial with two possible outcomes: success (1) or failure (0).\n",
    "#Example: Flipping a coin once; heads is a success and tails is a failure.\n",
    "#Difference from Binomial Distribution:\n",
    "\n",
    "#Bernoulli Distribution: Models a single trial.\n",
    "#Binomial Distribution: Models the number of successes in multiple trials. It generalizes the Bernoulli distribution to n trile with probiluty p of succes "
   ]
  },
  {
   "cell_type": "code",
   "execution_count": 15,
   "id": "95d12559-3c5a-4950-936e-e4a762798ec3",
   "metadata": {},
   "outputs": [],
   "source": [
    "#### Q6: Probability of Observation Greater Than 60 in a Normal Distribution\n",
    "# For a dataset with mean = 50 and standerd drviation\n",
    "\n",
    "\n",
    "#μ=50 and standard deviation \n",
    "\n",
    "#σ=10, we want the probability that a randomly selected observation is greater than 60"
   ]
  },
  {
   "cell_type": "code",
   "execution_count": 17,
   "id": "ae76e871-d255-4a93-9ca2-161d4db790b1",
   "metadata": {},
   "outputs": [],
   "source": [
    "### Q7: Explain uniform Distribution with an example.\n",
    "\n",
    "#The Uniform Distribution is a type of probability distribution where all outcomes are equally likely within a certain range. It can be either discrete or continuous.\n",
    "\n",
    "#1. Discrete Uniform Distribution\n",
    "#In a discrete uniform distribution, a finite number of outcomes are equally likely. For example, when rolling a fair die, each of the six faces (1 through 6) has an equal probability of landing face up.\n",
    "\n",
    "\n",
    "\n",
    "#Probability Mass Function (PMF): For a discrete uniform distribution over n possible values each outcome"
   ]
  },
  {
   "cell_type": "code",
   "execution_count": 18,
   "id": "fcfc7f35-0ec8-48e2-b7e7-8c30721d5792",
   "metadata": {},
   "outputs": [],
   "source": [
    "### Q8: What is the z score? State the importance of the z score\n",
    "# The z-score represents the number of standard deviations a data point is from the mean.\n",
    "#Importance:\n",
    "  #It standardizes scores, allowing comparison across different distributions.\n",
    "  #Helps in identifying how unusual or typical a data point is within a distribution."
   ]
  },
  {
   "cell_type": "code",
   "execution_count": 19,
   "id": "7f700eac-c9d4-488d-b2c4-8382d296e42a",
   "metadata": {},
   "outputs": [],
   "source": [
    "###Q9: Central Limit Theorem (CLT)\n",
    "#Central Limit Theorem:\n",
    "\n",
    "#The CLT states that the distribution of the sample mean approaches a normal distribution as the sample size increases, regardless of the original distribution of the population.\n",
    "#Significance:\n",
    "#It allows for the use of normal distribution techniques for inference even when the underlying data is not normally distributed, provided the sample size is sufficiently large."
   ]
  },
  {
   "cell_type": "code",
   "execution_count": null,
   "id": "8a18670c-cc27-4f78-8e89-0937e8b104c6",
   "metadata": {},
   "outputs": [],
   "source": [
    "#### Q10: Assumptions of the Central Limit Theorem\n",
    "#Random Sampling: The samples must be randomly selected.\n",
    "#Independence: The samples must be independent of each other.\n",
    "Sample Size: For non-normally distributed populations, a larger sample size is needed (usually \n",
    "𝑛\n",
    "≥\n",
    "30\n",
    "n≥30 is considered sufficient).\n",
    "You can use this information to create a comprehensive Jupyter notebook for your assignment. If you need help with any specific code implementations or further clarifications, let me know!"
   ]
  }
 ],
 "metadata": {
  "kernelspec": {
   "display_name": "Python 3 (ipykernel)",
   "language": "python",
   "name": "python3"
  },
  "language_info": {
   "codemirror_mode": {
    "name": "ipython",
    "version": 3
   },
   "file_extension": ".py",
   "mimetype": "text/x-python",
   "name": "python",
   "nbconvert_exporter": "python",
   "pygments_lexer": "ipython3",
   "version": "3.10.8"
  }
 },
 "nbformat": 4,
 "nbformat_minor": 5
}
